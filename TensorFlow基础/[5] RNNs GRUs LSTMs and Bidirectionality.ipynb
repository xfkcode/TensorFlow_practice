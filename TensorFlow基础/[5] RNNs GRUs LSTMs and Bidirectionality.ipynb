{
 "cells": [
  {
   "attachments": {},
   "cell_type": "markdown",
   "metadata": {},
   "source": [
    "# *RNNs*, *GRUs*, *LSTMs* and *Bidirectionality*"
   ]
  },
  {
   "cell_type": "code",
   "execution_count": 1,
   "metadata": {},
   "outputs": [],
   "source": [
    "import tensorflow as tf\n",
    "from tensorflow import keras\n",
    "from keras import layers\n",
    "from keras.datasets import mnist\n",
    "\n",
    "# physical_devices = tf.config.list_physical_devices('GPU')\n",
    "# tf.config.experimental.set_memory_growth(physical_devices[0], True)"
   ]
  },
  {
   "cell_type": "code",
   "execution_count": 2,
   "metadata": {},
   "outputs": [
    {
     "name": "stdout",
     "output_type": "stream",
     "text": [
      "(60000, 28, 28)\n",
      "(60000,)\n"
     ]
    }
   ],
   "source": [
    "(x_train, y_train), (x_test, y_test) = mnist.load_data()\n",
    "print(x_train.shape)\n",
    "print(y_train.shape)\n",
    "x_train = x_train.astype(\"float32\") / 255.0\n",
    "x_test = x_test.astype(\"float32\") / 255.0"
   ]
  },
  {
   "attachments": {},
   "cell_type": "markdown",
   "metadata": {},
   "source": [
    "### RNNs"
   ]
  },
  {
   "cell_type": "code",
   "execution_count": 3,
   "metadata": {},
   "outputs": [
    {
     "name": "stdout",
     "output_type": "stream",
     "text": [
      "Model: \"sequential\"\n",
      "_________________________________________________________________\n",
      " Layer (type)                Output Shape              Param #   \n",
      "=================================================================\n",
      " simple_rnn (SimpleRNN)      (None, None, 512)         276992    \n",
      "                                                                 \n",
      " simple_rnn_1 (SimpleRNN)    (None, 512)               524800    \n",
      "                                                                 \n",
      " dense (Dense)               (None, 10)                5130      \n",
      "                                                                 \n",
      "=================================================================\n",
      "Total params: 806,922\n",
      "Trainable params: 806,922\n",
      "Non-trainable params: 0\n",
      "_________________________________________________________________\n",
      "None\n",
      "Epoch 1/10\n",
      "938/938 - 306s - loss: 0.3180 - accuracy: 0.9007 - 306s/epoch - 326ms/step\n",
      "Epoch 2/10\n",
      "938/938 - 294s - loss: 0.1458 - accuracy: 0.9602 - 294s/epoch - 313ms/step\n",
      "Epoch 3/10\n",
      "938/938 - 305s - loss: 0.1203 - accuracy: 0.9672 - 305s/epoch - 325ms/step\n",
      "Epoch 4/10\n",
      "938/938 - 296s - loss: 0.1069 - accuracy: 0.9719 - 296s/epoch - 316ms/step\n",
      "Epoch 5/10\n",
      "938/938 - 292s - loss: 0.0948 - accuracy: 0.9743 - 292s/epoch - 311ms/step\n",
      "Epoch 6/10\n",
      "938/938 - 296s - loss: 0.0838 - accuracy: 0.9770 - 296s/epoch - 316ms/step\n",
      "Epoch 7/10\n",
      "938/938 - 296s - loss: 0.0806 - accuracy: 0.9785 - 296s/epoch - 316ms/step\n",
      "Epoch 8/10\n",
      "938/938 - 291s - loss: 0.0745 - accuracy: 0.9800 - 291s/epoch - 311ms/step\n",
      "Epoch 9/10\n",
      "938/938 - 298s - loss: 0.0741 - accuracy: 0.9802 - 298s/epoch - 317ms/step\n",
      "Epoch 10/10\n",
      "938/938 - 296s - loss: 0.0720 - accuracy: 0.9799 - 296s/epoch - 316ms/step\n",
      "157/157 - 16s - loss: 0.0712 - accuracy: 0.9799 - 16s/epoch - 100ms/step\n"
     ]
    },
    {
     "data": {
      "text/plain": [
       "[0.07115627825260162, 0.9799000024795532]"
      ]
     },
     "execution_count": 3,
     "metadata": {},
     "output_type": "execute_result"
    }
   ],
   "source": [
    "model = keras.Sequential()\n",
    "model.add(keras.Input(shape=(None, 28)))\n",
    "model.add(\n",
    "    layers.SimpleRNN(512, return_sequences=True, activation='relu')\n",
    ")\n",
    "model.add(layers.SimpleRNN(512, activation='relu'))\n",
    "model.add(layers.Dense(10))\n",
    "print(model.summary())\n",
    "\n",
    "model.compile(\n",
    "    loss=keras.losses.SparseCategoricalCrossentropy(from_logits=True),\n",
    "    optimizer=keras.optimizers.Adam(learning_rate=0.001),\n",
    "    metrics=[\"accuracy\"]\n",
    ")\n",
    "\n",
    "model.fit(x_train, y_train, batch_size=64, epochs=10, verbose=2)\n",
    "model.evaluate(x_test, y_test, batch_size=64, verbose=2)"
   ]
  },
  {
   "attachments": {},
   "cell_type": "markdown",
   "metadata": {},
   "source": [
    "### GRUs"
   ]
  },
  {
   "cell_type": "code",
   "execution_count": 4,
   "metadata": {},
   "outputs": [
    {
     "name": "stdout",
     "output_type": "stream",
     "text": [
      "Model: \"sequential_1\"\n",
      "_________________________________________________________________\n",
      " Layer (type)                Output Shape              Param #   \n",
      "=================================================================\n",
      " gru (GRU)                   (None, None, 256)         219648    \n",
      "                                                                 \n",
      " gru_1 (GRU)                 (None, 256)               394752    \n",
      "                                                                 \n",
      " dense_1 (Dense)             (None, 10)                2570      \n",
      "                                                                 \n",
      "=================================================================\n",
      "Total params: 616,970\n",
      "Trainable params: 616,970\n",
      "Non-trainable params: 0\n",
      "_________________________________________________________________\n",
      "None\n",
      "Epoch 1/10\n",
      "938/938 - 177s - loss: 0.2675 - accuracy: 0.9115 - 177s/epoch - 188ms/step\n",
      "Epoch 2/10\n",
      "938/938 - 171s - loss: 0.0693 - accuracy: 0.9789 - 171s/epoch - 182ms/step\n",
      "Epoch 3/10\n",
      "938/938 - 169s - loss: 0.0468 - accuracy: 0.9851 - 169s/epoch - 180ms/step\n",
      "Epoch 4/10\n",
      "938/938 - 171s - loss: 0.0362 - accuracy: 0.9884 - 171s/epoch - 183ms/step\n",
      "Epoch 5/10\n",
      "938/938 - 171s - loss: 0.0277 - accuracy: 0.9910 - 171s/epoch - 183ms/step\n",
      "Epoch 6/10\n",
      "938/938 - 171s - loss: 0.0273 - accuracy: 0.9918 - 171s/epoch - 183ms/step\n",
      "Epoch 7/10\n",
      "938/938 - 173s - loss: 0.0202 - accuracy: 0.9935 - 173s/epoch - 184ms/step\n",
      "Epoch 8/10\n",
      "938/938 - 171s - loss: 0.0190 - accuracy: 0.9937 - 171s/epoch - 182ms/step\n",
      "Epoch 9/10\n",
      "938/938 - 176s - loss: 0.0160 - accuracy: 0.9947 - 176s/epoch - 187ms/step\n",
      "Epoch 10/10\n",
      "938/938 - 175s - loss: 0.0168 - accuracy: 0.9945 - 175s/epoch - 187ms/step\n",
      "157/157 - 9s - loss: 0.0341 - accuracy: 0.9901 - 9s/epoch - 59ms/step\n"
     ]
    },
    {
     "data": {
      "text/plain": [
       "[0.03414703533053398, 0.9901000261306763]"
      ]
     },
     "execution_count": 4,
     "metadata": {},
     "output_type": "execute_result"
    }
   ],
   "source": [
    "model = keras.Sequential()\n",
    "model.add(keras.Input(shape=(None, 28)))\n",
    "model.add(\n",
    "    layers.GRU(256, return_sequences=True, activation='tanh')\n",
    ")\n",
    "model.add(layers.GRU(256, activation='tanh'))\n",
    "model.add(layers.Dense(10))\n",
    "print(model.summary())\n",
    "\n",
    "model.compile(\n",
    "    loss=keras.losses.SparseCategoricalCrossentropy(from_logits=True),\n",
    "    optimizer=keras.optimizers.Adam(learning_rate=0.001),\n",
    "    metrics=[\"accuracy\"]\n",
    ")\n",
    "\n",
    "model.fit(x_train, y_train, batch_size=64, epochs=10, verbose=2)\n",
    "model.evaluate(x_test, y_test, batch_size=64, verbose=2)"
   ]
  },
  {
   "attachments": {},
   "cell_type": "markdown",
   "metadata": {},
   "source": [
    "### LSTMs"
   ]
  },
  {
   "cell_type": "code",
   "execution_count": 5,
   "metadata": {},
   "outputs": [
    {
     "name": "stdout",
     "output_type": "stream",
     "text": [
      "Model: \"sequential_2\"\n",
      "_________________________________________________________________\n",
      " Layer (type)                Output Shape              Param #   \n",
      "=================================================================\n",
      " lstm (LSTM)                 (None, None, 256)         291840    \n",
      "                                                                 \n",
      " lstm_1 (LSTM)               (None, 256)               525312    \n",
      "                                                                 \n",
      " dense_2 (Dense)             (None, 10)                2570      \n",
      "                                                                 \n",
      "=================================================================\n",
      "Total params: 819,722\n",
      "Trainable params: 819,722\n",
      "Non-trainable params: 0\n",
      "_________________________________________________________________\n",
      "None\n",
      "Epoch 1/10\n"
     ]
    }
   ],
   "source": [
    "model = keras.Sequential()\n",
    "model.add(keras.Input(shape=(None, 28)))\n",
    "model.add(\n",
    "    layers.LSTM(256, return_sequences=True, activation='tanh')\n",
    ")\n",
    "model.add(layers.LSTM(256, activation='tanh'))\n",
    "model.add(layers.Dense(10))\n",
    "print(model.summary())\n",
    "\n",
    "model.compile(\n",
    "    loss=keras.losses.SparseCategoricalCrossentropy(from_logits=True),\n",
    "    optimizer=keras.optimizers.Adam(learning_rate=0.001),\n",
    "    metrics=[\"accuracy\"]\n",
    ")\n",
    "\n",
    "model.fit(x_train, y_train, batch_size=64, epochs=10, verbose=2)\n",
    "model.evaluate(x_test, y_test, batch_size=64, verbose=2)"
   ]
  },
  {
   "attachments": {},
   "cell_type": "markdown",
   "metadata": {},
   "source": [
    "### Bidirectionality"
   ]
  },
  {
   "cell_type": "code",
   "execution_count": null,
   "metadata": {},
   "outputs": [],
   "source": [
    "model = keras.Sequential()\n",
    "model.add(keras.Input(shape=(None, 28)))\n",
    "model.add(\n",
    "    layers.Bidirectional(\n",
    "        layers.LSTM(256, return_sequences=True, activation='tanh')\n",
    "    )\n",
    ")\n",
    "model.add(\n",
    "    layers.Bidirectional(\n",
    "        layers.LSTM(256, activation='tanh')\n",
    "    )\n",
    ")\n",
    "model.add(layers.Dense(10))\n",
    "print(model.summary())\n",
    "\n",
    "model.compile(\n",
    "    loss=keras.losses.SparseCategoricalCrossentropy(from_logits=True),\n",
    "    optimizer=keras.optimizers.Adam(learning_rate=0.001),\n",
    "    metrics=[\"accuracy\"]\n",
    ")\n",
    "\n",
    "model.fit(x_train, y_train, batch_size=64, epochs=10, verbose=2)\n",
    "model.evaluate(x_test, y_test, batch_size=64, verbose=2)"
   ]
  }
 ],
 "metadata": {
  "kernelspec": {
   "display_name": "base",
   "language": "python",
   "name": "python3"
  },
  "language_info": {
   "codemirror_mode": {
    "name": "ipython",
    "version": 3
   },
   "file_extension": ".py",
   "mimetype": "text/x-python",
   "name": "python",
   "nbconvert_exporter": "python",
   "pygments_lexer": "ipython3",
   "version": "3.9.12"
  },
  "orig_nbformat": 4
 },
 "nbformat": 4,
 "nbformat_minor": 2
}
