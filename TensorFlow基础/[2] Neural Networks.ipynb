{
 "cells": [
  {
   "attachments": {},
   "cell_type": "markdown",
   "metadata": {},
   "source": [
    "# *Neural Networks* with Sequential and Functional API🛒"
   ]
  },
  {
   "cell_type": "code",
   "execution_count": 1,
   "metadata": {},
   "outputs": [],
   "source": [
    "import tensorflow as tf\n",
    "from tensorflow import keras\n",
    "from keras import layers\n",
    "from keras.datasets import mnist"
   ]
  },
  {
   "cell_type": "code",
   "execution_count": 2,
   "metadata": {},
   "outputs": [
    {
     "name": "stdout",
     "output_type": "stream",
     "text": [
      "(60000, 28, 28)\n",
      "(60000,)\n"
     ]
    }
   ],
   "source": [
    "(x_train, y_train), (x_test, y_test) = mnist.load_data()\n",
    "print(x_train.shape)\n",
    "print(y_train.shape)\n",
    "x_train = x_train.reshape(-1, 28*28).astype(\"float32\") / 255.0\n",
    "x_test = x_test.reshape(-1, 28*28).astype(\"float32\") / 255.0"
   ]
  },
  {
   "attachments": {},
   "cell_type": "markdown",
   "metadata": {},
   "source": [
    "### Sequential API🪀"
   ]
  },
  {
   "cell_type": "code",
   "execution_count": 3,
   "metadata": {},
   "outputs": [
    {
     "name": "stdout",
     "output_type": "stream",
     "text": [
      "Epoch 1/5\n",
      "1875/1875 - 24s - loss: 0.1804 - accuracy: 0.9451 - 24s/epoch - 13ms/step\n",
      "Epoch 2/5\n",
      "1875/1875 - 22s - loss: 0.0778 - accuracy: 0.9755 - 22s/epoch - 12ms/step\n",
      "Epoch 3/5\n",
      "1875/1875 - 22s - loss: 0.0542 - accuracy: 0.9831 - 22s/epoch - 12ms/step\n",
      "Epoch 4/5\n",
      "1875/1875 - 23s - loss: 0.0392 - accuracy: 0.9875 - 23s/epoch - 12ms/step\n",
      "Epoch 5/5\n",
      "1875/1875 - 23s - loss: 0.0320 - accuracy: 0.9897 - 23s/epoch - 12ms/step\n",
      "313/313 - 1s - loss: 0.0678 - accuracy: 0.9813 - 1s/epoch - 3ms/step\n"
     ]
    },
    {
     "data": {
      "text/plain": [
       "[0.06783074885606766, 0.9812999963760376]"
      ]
     },
     "execution_count": 3,
     "metadata": {},
     "output_type": "execute_result"
    }
   ],
   "source": [
    "model = keras.Sequential(\n",
    "    [\n",
    "        keras.Input(shape=(28*28)),\n",
    "        layers.Dense(512, activation='relu', name='first_layer'),\n",
    "        layers.Dense(256, activation='relu', name='second_layer'),\n",
    "        layers.Dense(10)\n",
    "    ]\n",
    ")\n",
    "    \n",
    "model.compile(\n",
    "    loss=keras.losses.SparseCategoricalCrossentropy(from_logits=True),\n",
    "    optimizer=keras.optimizers.Adam(learning_rate=0.001),\n",
    "    metrics=[\"accuracy\"]\n",
    ")\n",
    "\n",
    "model.fit(x_train, y_train, batch_size=32, epochs=5, verbose=2)\n",
    "model.evaluate(x_test, y_test, batch_size=32, verbose=2)"
   ]
  },
  {
   "cell_type": "code",
   "execution_count": 4,
   "metadata": {},
   "outputs": [
    {
     "name": "stdout",
     "output_type": "stream",
     "text": [
      "Model: \"sequential_1\"\n",
      "_________________________________________________________________\n",
      " Layer (type)                Output Shape              Param #   \n",
      "=================================================================\n",
      " first_layer (Dense)         (None, 512)               401920    \n",
      "                                                                 \n",
      " second_layer (Dense)        (None, 256)               131328    \n",
      "                                                                 \n",
      " dense_1 (Dense)             (None, 10)                2570      \n",
      "                                                                 \n",
      "=================================================================\n",
      "Total params: 535,818\n",
      "Trainable params: 535,818\n",
      "Non-trainable params: 0\n",
      "_________________________________________________________________\n",
      "None\n",
      "1875/1875 [==============================] - 5s 2ms/step\n",
      "(60000, 512)\n",
      "1875/1875 [==============================] - 5s 2ms/step\n",
      "(60000, 784)\n",
      "(60000, 512)\n"
     ]
    }
   ],
   "source": [
    "model = keras.Sequential()\n",
    "model.add(keras.Input(shape=(28*28)))\n",
    "model.add(layers.Dense(512, activation='relu', name='first_layer'))\n",
    "model.add(layers.Dense(256, activation='relu', name='second_layer'))\n",
    "model.add(layers.Dense(10))\n",
    "print(model.summary())\n",
    "\n",
    "model = keras.Model(inputs=model.inputs,\n",
    "                    outputs=[model.get_layer('second_layer').output])\n",
    "model = keras.Model(inputs=model.inputs,\n",
    "                    outputs=[model.layers[-2].output])\n",
    "feature = model.predict(x_train)\n",
    "print(feature.shape)\n",
    "model = keras.Model(inputs=model.inputs,\n",
    "                    outputs=[layer.output for layer in model.layers])\n",
    "features = model.predict(x_train)\n",
    "for feature in features:\n",
    "    print(feature.shape)"
   ]
  },
  {
   "attachments": {},
   "cell_type": "markdown",
   "metadata": {},
   "source": [
    "### Functional API🧽"
   ]
  },
  {
   "cell_type": "code",
   "execution_count": 7,
   "metadata": {},
   "outputs": [
    {
     "name": "stdout",
     "output_type": "stream",
     "text": [
      "Epoch 1/5\n",
      "1875/1875 - 25s - loss: 0.1841 - accuracy: 0.9432 - 25s/epoch - 13ms/step\n",
      "Epoch 2/5\n",
      "1875/1875 - 22s - loss: 0.0788 - accuracy: 0.9749 - 22s/epoch - 12ms/step\n",
      "Epoch 3/5\n",
      "1875/1875 - 22s - loss: 0.0525 - accuracy: 0.9833 - 22s/epoch - 12ms/step\n",
      "Epoch 4/5\n",
      "1875/1875 - 22s - loss: 0.0405 - accuracy: 0.9867 - 22s/epoch - 12ms/step\n",
      "Epoch 5/5\n",
      "1875/1875 - 23s - loss: 0.0339 - accuracy: 0.9891 - 23s/epoch - 12ms/step\n",
      "313/313 - 1s - loss: 0.0842 - accuracy: 0.9771 - 1s/epoch - 4ms/step\n"
     ]
    },
    {
     "data": {
      "text/plain": [
       "[0.08421880006790161, 0.9771000146865845]"
      ]
     },
     "execution_count": 7,
     "metadata": {},
     "output_type": "execute_result"
    }
   ],
   "source": [
    "inputs = keras.Input(shape=(28*28))\n",
    "x = layers.Dense(512, activation='relu')(inputs)\n",
    "x = layers.Dense(256, activation='relu')(x)\n",
    "outputs = layers.Dense(10, activation='softmax')(x)\n",
    "model = keras.Model(inputs=inputs, outputs=outputs)\n",
    "# print(model.summary())\n",
    "\n",
    "model.compile(\n",
    "    loss=keras.losses.SparseCategoricalCrossentropy(from_logits=True),\n",
    "    optimizer=keras.optimizers.Adam(learning_rate=0.001),\n",
    "    metrics=[\"accuracy\"]\n",
    ")\n",
    "\n",
    "model.fit(x_train, y_train, batch_size=32, epochs=5, verbose=2)\n",
    "model.evaluate(x_test, y_test, batch_size=32, verbose=2)"
   ]
  }
 ],
 "metadata": {
  "kernelspec": {
   "display_name": "base",
   "language": "python",
   "name": "python3"
  },
  "language_info": {
   "codemirror_mode": {
    "name": "ipython",
    "version": 3
   },
   "file_extension": ".py",
   "mimetype": "text/x-python",
   "name": "python",
   "nbconvert_exporter": "python",
   "pygments_lexer": "ipython3",
   "version": "3.9.12"
  },
  "orig_nbformat": 4
 },
 "nbformat": 4,
 "nbformat_minor": 2
}
