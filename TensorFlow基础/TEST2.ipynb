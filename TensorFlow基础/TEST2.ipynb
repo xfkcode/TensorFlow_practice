{
 "cells": [
  {
   "attachments": {},
   "cell_type": "markdown",
   "metadata": {},
   "source": [
    "# Tensor Basics"
   ]
  },
  {
   "cell_type": "code",
   "execution_count": 1,
   "metadata": {},
   "outputs": [],
   "source": [
    "import tensorflow as tf"
   ]
  },
  {
   "attachments": {},
   "cell_type": "markdown",
   "metadata": {},
   "source": [
    "### Initialization of Tensors"
   ]
  },
  {
   "cell_type": "code",
   "execution_count": 12,
   "metadata": {},
   "outputs": [
    {
     "name": "stdout",
     "output_type": "stream",
     "text": [
      "tf.Tensor([[4.]], shape=(1, 1), dtype=float32)\n",
      "tf.Tensor(\n",
      "[[1 2 3]\n",
      " [4 5 6]], shape=(2, 3), dtype=int32)\n",
      "tf.Tensor(\n",
      "[[1. 1. 1.]\n",
      " [1. 1. 1.]\n",
      " [1. 1. 1.]], shape=(3, 3), dtype=float32)\n",
      "tf.Tensor(\n",
      "[[0. 0. 0.]\n",
      " [0. 0. 0.]], shape=(2, 3), dtype=float32)\n",
      "tf.Tensor(\n",
      "[[1. 0. 0.]\n",
      " [0. 1. 0.]\n",
      " [0. 0. 1.]], shape=(3, 3), dtype=float32)\n",
      "tf.Tensor(\n",
      "[[ 0.5299997  -0.42962843  1.2221533 ]\n",
      " [ 0.7909484   2.1177316  -0.6126505 ]\n",
      " [-0.97200906 -0.9406563  -1.6109722 ]], shape=(3, 3), dtype=float32)\n",
      "tf.Tensor([[0.4138373 0.7402588 0.8783786]], shape=(1, 3), dtype=float32)\n",
      "tf.Tensor([0 1 2 3 4 5 6 7 8], shape=(9,), dtype=int32)\n",
      "tf.Tensor([1 3 5 7 9], shape=(5,), dtype=int32)\n",
      "tf.Tensor([1. 3. 5. 7. 9.], shape=(5,), dtype=float64)\n"
     ]
    }
   ],
   "source": [
    "a = tf.constant(4, shape=(1,1), dtype=tf.float32)\n",
    "print(a)\n",
    "b = tf.constant([[1,2,3],[4,5,6]])\n",
    "print(b)\n",
    "c = tf.ones((3,3))\n",
    "print(c)\n",
    "d = tf.zeros((2,3))\n",
    "print(d)\n",
    "e = tf.eye(3)\n",
    "print(e)\n",
    "f = tf.random.normal((3,3), mean=0, stddev=1)\n",
    "print(f)\n",
    "g = tf.random.uniform((1,3), minval=0, maxval=1)\n",
    "print(g)\n",
    "h = tf.range(9)\n",
    "print(h)\n",
    "i = tf.range(start=1, limit=10, delta=2)\n",
    "print(i)\n",
    "# tf.float(16, 32, 64)\n",
    "# tf.int(8, 16, 32, 64)\n",
    "# tf.bool\n",
    "i = tf.cast(i, dtype=tf.float64)\n",
    "print(i)"
   ]
  },
  {
   "attachments": {},
   "cell_type": "markdown",
   "metadata": {},
   "source": [
    "### Mathematical Operations"
   ]
  },
  {
   "cell_type": "code",
   "execution_count": 20,
   "metadata": {},
   "outputs": [
    {
     "name": "stdout",
     "output_type": "stream",
     "text": [
      "tf.Tensor([3 5 7], shape=(3,), dtype=int32)\n",
      "tf.Tensor([-1 -1 -1], shape=(3,), dtype=int32)\n",
      "tf.Tensor([0.5        0.66666667 0.75      ], shape=(3,), dtype=float64)\n",
      "tf.Tensor([ 2  6 12], shape=(3,), dtype=int32)\n",
      "tf.Tensor(20, shape=(), dtype=int32)\n",
      "tf.Tensor([1 4 9], shape=(3,), dtype=int32)\n",
      "tf.Tensor(\n",
      "[[ 2.1087296  -2.4355235  -2.5608373  -3.275873  ]\n",
      " [-0.39130768  4.7316785   0.3768755  -0.2707536 ]], shape=(2, 4), dtype=float32)\n",
      "tf.Tensor(\n",
      "[[ 2.1087296  -2.4355235  -2.5608373  -3.275873  ]\n",
      " [-0.39130768  4.7316785   0.3768755  -0.2707536 ]], shape=(2, 4), dtype=float32)\n"
     ]
    }
   ],
   "source": [
    "x = tf.constant([1,2,3])\n",
    "y = tf.constant([2,3,4])\n",
    "# 元素相加\n",
    "z = tf.add(x,y)\n",
    "z = x + y\n",
    "print(z)\n",
    "# 元素相减\n",
    "z = tf.subtract(x,y)\n",
    "z = x - y\n",
    "print(z)\n",
    "# 元素相除\n",
    "z = tf.divide(x,y)\n",
    "z = x / y\n",
    "print(z)\n",
    "# 元素相乘\n",
    "z = tf.multiply(x,y)\n",
    "z = x * y\n",
    "print(z)\n",
    "# 元素相乘求和\n",
    "z = tf.tensordot(x,y,axes=1)\n",
    "z = tf.reduce_sum(x*y, axis=0)\n",
    "print(z)\n",
    "# 元素幂\n",
    "z = x ** 2\n",
    "print(z)\n",
    "# 矩阵乘法\n",
    "x = tf.random.normal((2,3))\n",
    "y = tf.random.normal((3,4))\n",
    "z = tf.matmul(x,y)\n",
    "print(z)\n",
    "z = x @ y\n",
    "print(z)"
   ]
  },
  {
   "attachments": {},
   "cell_type": "markdown",
   "metadata": {},
   "source": [
    "### Indexing"
   ]
  },
  {
   "cell_type": "code",
   "execution_count": 26,
   "metadata": {},
   "outputs": [
    {
     "name": "stdout",
     "output_type": "stream",
     "text": [
      "tf.Tensor([0 1 1 2 3 1 2 1 3], shape=(9,), dtype=int32)\n",
      "tf.Tensor([1 1 2 3 1 2 1 3], shape=(8,), dtype=int32)\n",
      "tf.Tensor([1 1], shape=(2,), dtype=int32)\n",
      "tf.Tensor([0 1 3 2 3], shape=(5,), dtype=int32)\n",
      "tf.Tensor([3 1 2 1 3 2 1 1 0], shape=(9,), dtype=int32)\n",
      "tf.Tensor([0 2], shape=(2,), dtype=int32)\n",
      "tf.Tensor([1 2], shape=(2,), dtype=int32)\n",
      "tf.Tensor(\n",
      "[[1 2]\n",
      " [3 4]], shape=(2, 2), dtype=int32)\n"
     ]
    }
   ],
   "source": [
    "x = tf.constant([0,1,1,2,3,1,2,1,3])\n",
    "print(x[:])\n",
    "print(x[1:])\n",
    "print(x[1:3])\n",
    "print(x[::2])\n",
    "print(x[::-1])\n",
    "indices = tf.constant([0,3])\n",
    "x_ind = tf.gather(x, indices)\n",
    "print(x_ind)\n",
    "y = tf.constant([[1,2],\n",
    "                 [3,4],\n",
    "                 [5,6]])\n",
    "print(y[0,:])\n",
    "print(y[0:2,:])"
   ]
  },
  {
   "attachments": {},
   "cell_type": "markdown",
   "metadata": {},
   "source": [
    "### Reshaping"
   ]
  },
  {
   "cell_type": "code",
   "execution_count": 30,
   "metadata": {},
   "outputs": [
    {
     "name": "stdout",
     "output_type": "stream",
     "text": [
      "tf.Tensor([0 1 2 3 4 5 6 7 8], shape=(9,), dtype=int32)\n",
      "tf.Tensor(\n",
      "[[0 1 2]\n",
      " [3 4 5]\n",
      " [6 7 8]], shape=(3, 3), dtype=int32)\n",
      "tf.Tensor(\n",
      "[[0 3 6]\n",
      " [1 4 7]\n",
      " [2 5 8]], shape=(3, 3), dtype=int32)\n"
     ]
    }
   ],
   "source": [
    "x = tf.range(9)\n",
    "print(x)\n",
    "x = tf.reshape(x, (3,3))\n",
    "print(x)\n",
    "x = tf.transpose(x, perm=[1,0])\n",
    "print(x)"
   ]
  }
 ],
 "metadata": {
  "kernelspec": {
   "display_name": "base",
   "language": "python",
   "name": "python3"
  },
  "language_info": {
   "codemirror_mode": {
    "name": "ipython",
    "version": 3
   },
   "file_extension": ".py",
   "mimetype": "text/x-python",
   "name": "python",
   "nbconvert_exporter": "python",
   "pygments_lexer": "ipython3",
   "version": "3.9.12"
  },
  "orig_nbformat": 4
 },
 "nbformat": 4,
 "nbformat_minor": 2
}
