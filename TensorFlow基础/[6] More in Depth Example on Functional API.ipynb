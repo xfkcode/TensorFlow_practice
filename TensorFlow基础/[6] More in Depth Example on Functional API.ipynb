{
 "cells": [
  {
   "attachments": {},
   "cell_type": "markdown",
   "metadata": {},
   "source": [
    "# More in Depth Example on Functional API"
   ]
  },
  {
   "cell_type": "code",
   "execution_count": 1,
   "metadata": {},
   "outputs": [],
   "source": [
    "import tensorflow as tf\n",
    "from tensorflow import keras\n",
    "from keras import layers, regularizers\n",
    "import pandas as pd\n",
    "import os"
   ]
  },
  {
   "attachments": {},
   "cell_type": "markdown",
   "metadata": {},
   "source": [
    "### Hyperparameters"
   ]
  },
  {
   "cell_type": "code",
   "execution_count": 2,
   "metadata": {},
   "outputs": [],
   "source": [
    "BATCH_SIZE = 64\n",
    "WEIGHT_DECAY = 0.001\n",
    "LEARNING_RATE = 0.001"
   ]
  },
  {
   "attachments": {},
   "cell_type": "markdown",
   "metadata": {},
   "source": [
    "### Dataset\n",
    "【🔔】[**Download**](https://www.kaggle.com/datasets/eb9594e5b728b2eb74ff8d5e57a9b74634330bfa79d9195d6ebdc7745b9802c3)"
   ]
  },
  {
   "cell_type": "code",
   "execution_count": 3,
   "metadata": {},
   "outputs": [],
   "source": [
    "train_df = pd.read_csv(\"train.csv\")\n",
    "test_df = pd.read_csv(\"test.csv\")\n",
    "\n",
    "train_images = os.getcwd() + \"/train_images/\" + train_df.iloc[:,0].values\n",
    "test_images = os.getcwd() + \"/test_images/\" + test_df.iloc[:,0].values\n",
    "\n",
    "train_labels = train_df.iloc[:,1:].values\n",
    "test_labels = test_df.iloc[:,1:].values"
   ]
  },
  {
   "cell_type": "code",
   "execution_count": 4,
   "metadata": {},
   "outputs": [],
   "source": [
    "def read_images(images_path, label):\n",
    "    image = tf.io.read_file(images_path)\n",
    "    image = tf.image.decode_image(image, channels=1, dtype=tf.float32)\n",
    "    \n",
    "    image.set_shape((64, 64, 1))\n",
    "    label[0].set_shape([])\n",
    "    label[1].set_shape([])\n",
    "    \n",
    "    labels = {\"first_num\":label[0], \"second_num\":label[1]}\n",
    "    return image, labels"
   ]
  },
  {
   "cell_type": "code",
   "execution_count": 5,
   "metadata": {},
   "outputs": [],
   "source": [
    "AUTOTUNE = tf.data.experimental.AUTOTUNE\n",
    "train_dataset = tf.data.Dataset.from_tensor_slices(\n",
    "    (train_images, train_labels)\n",
    ")\n",
    "train_dataset = (\n",
    "    train_dataset.shuffle(buffer_size=len(train_labels))\n",
    "    .map(read_images)\n",
    "    .batch(batch_size=BATCH_SIZE)\n",
    "    .prefetch(buffer_size=AUTOTUNE)\n",
    ")\n",
    "test_dataset = tf.data.Dataset.from_tensor_slices(\n",
    "    (test_images, test_labels)\n",
    ")\n",
    "test_dataset = (\n",
    "    test_dataset\n",
    "    .map(read_images)\n",
    "    .batch(batch_size=BATCH_SIZE)\n",
    "    .prefetch(buffer_size=AUTOTUNE)\n",
    ")"
   ]
  },
  {
   "attachments": {},
   "cell_type": "markdown",
   "metadata": {},
   "source": [
    "### Model"
   ]
  },
  {
   "cell_type": "code",
   "execution_count": 6,
   "metadata": {},
   "outputs": [
    {
     "name": "stdout",
     "output_type": "stream",
     "text": [
      "Model: \"model\"\n",
      "__________________________________________________________________________________________________\n",
      " Layer (type)                   Output Shape         Param #     Connected to                     \n",
      "==================================================================================================\n",
      " input_1 (InputLayer)           [(None, 64, 64, 1)]  0           []                               \n",
      "                                                                                                  \n",
      " conv2d (Conv2D)                (None, 64, 64, 32)   320         ['input_1[0][0]']                \n",
      "                                                                                                  \n",
      " batch_normalization (BatchNorm  (None, 64, 64, 32)  128         ['conv2d[0][0]']                 \n",
      " alization)                                                                                       \n",
      "                                                                                                  \n",
      " tf.nn.relu (TFOpLambda)        (None, 64, 64, 32)   0           ['batch_normalization[0][0]']    \n",
      "                                                                                                  \n",
      " conv2d_1 (Conv2D)              (None, 62, 62, 64)   18496       ['tf.nn.relu[0][0]']             \n",
      "                                                                                                  \n",
      " batch_normalization_1 (BatchNo  (None, 62, 62, 64)  256         ['conv2d_1[0][0]']               \n",
      " rmalization)                                                                                     \n",
      "                                                                                                  \n",
      " tf.nn.relu_1 (TFOpLambda)      (None, 62, 62, 64)   0           ['batch_normalization_1[0][0]']  \n",
      "                                                                                                  \n",
      " max_pooling2d (MaxPooling2D)   (None, 31, 31, 64)   0           ['tf.nn.relu_1[0][0]']           \n",
      "                                                                                                  \n",
      " conv2d_2 (Conv2D)              (None, 29, 29, 64)   36928       ['max_pooling2d[0][0]']          \n",
      "                                                                                                  \n",
      " conv2d_3 (Conv2D)              (None, 27, 27, 128)  73856       ['conv2d_2[0][0]']               \n",
      "                                                                                                  \n",
      " max_pooling2d_1 (MaxPooling2D)  (None, 13, 13, 128)  0          ['conv2d_3[0][0]']               \n",
      "                                                                                                  \n",
      " flatten (Flatten)              (None, 21632)        0           ['max_pooling2d_1[0][0]']        \n",
      "                                                                                                  \n",
      " dense (Dense)                  (None, 128)          2769024     ['flatten[0][0]']                \n",
      "                                                                                                  \n",
      " dropout (Dropout)              (None, 128)          0           ['dense[0][0]']                  \n",
      "                                                                                                  \n",
      " dense_1 (Dense)                (None, 64)           8256        ['dropout[0][0]']                \n",
      "                                                                                                  \n",
      " first_num (Dense)              (None, 10)           650         ['dense_1[0][0]']                \n",
      "                                                                                                  \n",
      " second_num (Dense)             (None, 10)           650         ['dense_1[0][0]']                \n",
      "                                                                                                  \n",
      "==================================================================================================\n",
      "Total params: 2,908,564\n",
      "Trainable params: 2,908,372\n",
      "Non-trainable params: 192\n",
      "__________________________________________________________________________________________________\n",
      "None\n"
     ]
    }
   ],
   "source": [
    "inputs = keras.Input(shape=(64, 64, 1))\n",
    "x = layers.Conv2D(\n",
    "    filters = 32,\n",
    "    kernel_size = 3,\n",
    "    padding = 'same',\n",
    "    kernel_regularizer = regularizers.l2(WEIGHT_DECAY)\n",
    ")(inputs)\n",
    "x = layers.BatchNormalization()(x)\n",
    "x = keras.activations.relu(x)\n",
    "x = layers.Conv2D(64, 3, kernel_regularizer = regularizers.l2(WEIGHT_DECAY))(x)\n",
    "x = layers.BatchNormalization()(x)\n",
    "x = keras.activations.relu(x)\n",
    "x = layers.MaxPooling2D()(x)\n",
    "x = layers.Conv2D(64, 3, activation='relu',\n",
    "                  kernel_regularizer = regularizers.l2(WEIGHT_DECAY))(x)\n",
    "x = layers.Conv2D(128, 3, activation='relu')(x)\n",
    "x = layers.MaxPooling2D()(x)\n",
    "x = layers.Flatten()(x)\n",
    "x = layers.Dense(128, activation='relu')(x)\n",
    "x = layers.Dropout(0.5)(x)\n",
    "x = layers.Dense(64, activation='relu')(x)\n",
    "output1 = layers.Dense(10, activation='softmax', name='first_num')(x)\n",
    "output2 = layers.Dense(10, activation='softmax', name='second_num')(x)\n",
    "model = keras.Model(inputs = inputs, outputs = [output1, output2])\n",
    "print(model.summary())"
   ]
  },
  {
   "cell_type": "code",
   "execution_count": 7,
   "metadata": {},
   "outputs": [
    {
     "name": "stdout",
     "output_type": "stream",
     "text": [
      "Epoch 1/5\n",
      "1000/1000 - 1300s - loss: 1.8437 - first_num_loss: 0.8805 - second_num_loss: 0.8798 - first_num_accuracy: 0.6845 - second_num_accuracy: 0.6862 - 1300s/epoch - 1s/step\n",
      "Epoch 2/5\n",
      "1000/1000 - 1373s - loss: 0.4805 - first_num_loss: 0.2075 - second_num_loss: 0.2074 - first_num_accuracy: 0.9342 - second_num_accuracy: 0.9330 - 1373s/epoch - 1s/step\n",
      "Epoch 3/5\n",
      "1000/1000 - 1332s - loss: 0.3135 - first_num_loss: 0.1260 - second_num_loss: 0.1310 - first_num_accuracy: 0.9612 - second_num_accuracy: 0.9587 - 1332s/epoch - 1s/step\n",
      "Epoch 4/5\n",
      "1000/1000 - 1258s - loss: 0.2460 - first_num_loss: 0.0983 - second_num_loss: 0.0967 - first_num_accuracy: 0.9692 - second_num_accuracy: 0.9687 - 1258s/epoch - 1s/step\n",
      "Epoch 5/5\n",
      "1000/1000 - 1540s - loss: 0.2063 - first_num_loss: 0.0816 - second_num_loss: 0.0768 - first_num_accuracy: 0.9737 - second_num_accuracy: 0.9757 - 1540s/epoch - 2s/step\n",
      "313/313 - 119s - loss: 0.9784 - first_num_loss: 0.3663 - second_num_loss: 0.5660 - first_num_accuracy: 0.9027 - second_num_accuracy: 0.8529 - 119s/epoch - 381ms/step\n"
     ]
    },
    {
     "data": {
      "text/plain": [
       "[0.978449821472168,\n",
       " 0.3662666380405426,\n",
       " 0.5659745335578918,\n",
       " 0.9027000069618225,\n",
       " 0.8529499769210815]"
      ]
     },
     "execution_count": 7,
     "metadata": {},
     "output_type": "execute_result"
    }
   ],
   "source": [
    "model.compile(\n",
    "    optimizer=keras.optimizers.Adam(learning_rate=LEARNING_RATE),\n",
    "    loss=[\n",
    "            keras.losses.SparseCategoricalCrossentropy(),\n",
    "            keras.losses.SparseCategoricalCrossentropy(),\n",
    "        ],\n",
    "    metrics=[\"accuracy\"]\n",
    ")\n",
    "\n",
    "model.fit(train_dataset, epochs=5, verbose=2)\n",
    "model.evaluate(test_dataset, verbose=2)"
   ]
  }
 ],
 "metadata": {
  "kernelspec": {
   "display_name": "base",
   "language": "python",
   "name": "python3"
  },
  "language_info": {
   "codemirror_mode": {
    "name": "ipython",
    "version": 3
   },
   "file_extension": ".py",
   "mimetype": "text/x-python",
   "name": "python",
   "nbconvert_exporter": "python",
   "pygments_lexer": "ipython3",
   "version": "3.9.12"
  },
  "orig_nbformat": 4
 },
 "nbformat": 4,
 "nbformat_minor": 2
}
